{
 "cells": [
  {
   "cell_type": "markdown",
   "metadata": {},
   "source": [
    "# Revisión de Solicitudes"
   ]
  },
  {
   "cell_type": "markdown",
   "metadata": {},
   "source": [
    "### Importar librerías"
   ]
  },
  {
   "cell_type": "code",
   "execution_count": 190,
   "metadata": {},
   "outputs": [],
   "source": [
    "import pandas as pd\n",
    "import numpy as np\n",
    "import matplotlib.pyplot as plt"
   ]
  },
  {
   "cell_type": "markdown",
   "metadata": {},
   "source": [
    "### Definir bases de datos"
   ]
  },
  {
   "cell_type": "code",
   "execution_count": 192,
   "metadata": {},
   "outputs": [],
   "source": [
    "# 8240 - Materiales\n",
    "excel_8240 = \"8240.xlsx\"\n",
    "df8240 = pd.read_excel(excel_8240)\n",
    "#Remover columnas no necesarias en dataframe\n",
    "#Material\tMaterial type\tMaterial Group\tMaterial Group Desc.\tPlant\tBase Unit of Measure\tMaterial description\tLong Text\tExt. Material Group\tExt. matl grp descr.\tManufacturer Part No.\tManufacturer\tName\tValuation Class\tDescription\tCreated by\tCreated On\n",
    "#Renombrar columnas\n",
    "df8240.rename(columns={\"Manufacturer Part No.\":\"Manuf_Nro_Parte\"}, inplace=True)"
   ]
  },
  {
   "cell_type": "code",
   "execution_count": 193,
   "metadata": {},
   "outputs": [
    {
     "data": {
      "text/plain": [
       "0         NM38740NR2V\n",
       "1            100-1B11\n",
       "2              6F4868\n",
       "3             5310951\n",
       "4                 NaN\n",
       "             ...     \n",
       "75881         5199871\n",
       "75882    HY-MP-201002\n",
       "75883    CY-MP-201002\n",
       "75884         OD406.4\n",
       "75885       105030950\n",
       "Name: Manuf_Nro_Parte, Length: 75886, dtype: object"
      ]
     },
     "execution_count": 193,
     "metadata": {},
     "output_type": "execute_result"
    }
   ],
   "source": [
    "#Verificacion de cambio de nombre de columna\n",
    "#df8240[\"Manuf_Nro_Parte\"]"
   ]
  },
  {
   "cell_type": "code",
   "execution_count": 194,
   "metadata": {},
   "outputs": [
    {
     "data": {
      "text/plain": [
       "(75886, 26)"
      ]
     },
     "execution_count": 194,
     "metadata": {},
     "output_type": "execute_result"
    }
   ],
   "source": [
    "#Cantidad de Registros\n",
    "df8240.shape"
   ]
  },
  {
   "cell_type": "code",
   "execution_count": 195,
   "metadata": {},
   "outputs": [],
   "source": [
    "# 0370 - Materiales\n",
    "#excel_0370 = \"0370.xlsx\"\n",
    "#df0370 = pd.read_excel(excel_0370)\n",
    "#Remover columnas no necesarias en dataframe\n",
    "#Material\tMaterial type\tMaterial Group\tMaterial Group Desc.\tPlant\tBase Unit of Measure\tMaterial description\tLong Text\tExt. Material Group\tExt. matl grp descr.\tManufacturer Part No.\tManufacturer\tName\tValuation Class\tDescription\tCreated by\tCreated On\n",
    "#Renombrar columnas\n",
    "#df0370.rename(columns={\"Manufacturer Part No.\":\"Manuf_Nro_Parte\"}, inplace=True)"
   ]
  },
  {
   "cell_type": "code",
   "execution_count": null,
   "metadata": {},
   "outputs": [],
   "source": [
    "#Verificacion de cambio de nombre de columna\n",
    "#df0370[\"Manuf_Nro_Parte\"]"
   ]
  },
  {
   "cell_type": "code",
   "execution_count": 196,
   "metadata": {},
   "outputs": [],
   "source": [
    "#Cantidad de Registros\n",
    "#df0370.shape"
   ]
  },
  {
   "cell_type": "code",
   "execution_count": 197,
   "metadata": {},
   "outputs": [],
   "source": [
    "# 0371 - Materiales\n",
    "#excel_0371 = \"0371.xlsx\"\n",
    "#df0371 = pd.read_excel(excel_0371)\n",
    "#Remover columnas no necesarias en dataframe\n",
    "#Material\tMaterial type\tMaterial Group\tMaterial Group Desc.\tPlant\tBase Unit of Measure\tMaterial description\tLong Text\tExt. Material Group\tExt. matl grp descr.\tManufacturer Part No.\tManufacturer\tName\tValuation Class\tDescription\tCreated by\tCreated On\n",
    "#Renombrar columnas\n",
    "#df0371.rename(columns={\"Manufacturer Part No.\":\"Manuf_Nro_Parte\"}, inplace=True)"
   ]
  },
  {
   "cell_type": "code",
   "execution_count": null,
   "metadata": {},
   "outputs": [],
   "source": [
    "#Verificacion de cambio de nombre de columna\n",
    "#df0371[\"Manuf_Nro_Parte\"]"
   ]
  },
  {
   "cell_type": "code",
   "execution_count": 198,
   "metadata": {},
   "outputs": [],
   "source": [
    "#Cantidad de Registros\n",
    "#df0371.shape"
   ]
  },
  {
   "cell_type": "code",
   "execution_count": 199,
   "metadata": {},
   "outputs": [],
   "source": [
    "#9900 - Materiales\n",
    "#excel_9900 = \"9900.xlsx\"\n",
    "#df9900 = pd.read_excel(excel_9900)\n",
    "#Remover columnas no necesarias en dataframe\n",
    "#Material\tMaterial type\tMaterial Group\tMaterial Group Desc.\tPlant\tBase Unit of Measure\tMaterial description\tLong Text\tExt. Material Group\tExt. matl grp descr.\tManufacturer Part No.\tManufacturer\tName\tValuation Class\tDescription\tCreated by\tCreated On\n",
    "#Renombrar columnas\n",
    "#df9900.rename(columns={\"Manufacturer Part No.\":\"Manuf_Nro_Parte\"}, inplace=True)"
   ]
  },
  {
   "cell_type": "code",
   "execution_count": null,
   "metadata": {},
   "outputs": [],
   "source": [
    "#Verificacion de cambio de nombre de columna\n",
    "#df9900[\"Manuf_Nro_Parte\"]"
   ]
  },
  {
   "cell_type": "code",
   "execution_count": 200,
   "metadata": {},
   "outputs": [],
   "source": [
    "#Cantidad de Registros\n",
    "#df9900.shape"
   ]
  },
  {
   "cell_type": "code",
   "execution_count": 201,
   "metadata": {},
   "outputs": [],
   "source": [
    "#9980 - Materiales\n",
    "#excel_9980 = \"9980.xlsx\"\n",
    "#df9980 = pd.read_excel(excel_9980)\n",
    "#Remover columnas no necesarias en dataframe\n",
    "#Material\tMaterial type\tMaterial Group\tMaterial Group Desc.\tPlant\tBase Unit of Measure\tMaterial description\tLong Text\tExt. Material Group\tExt. matl grp descr.\tManufacturer Part No.\tManufacturer\tName\tValuation Class\tDescription\tCreated by\tCreated On\n",
    "#Renombrar columnas\n",
    "#df9980.rename(columns={\"Manufacturer Part No.\":\"Manuf_Nro_Parte\"}, inplace=True)"
   ]
  },
  {
   "cell_type": "code",
   "execution_count": null,
   "metadata": {},
   "outputs": [],
   "source": [
    "#Verificacion de cambio de nombre de columna\n",
    "#df9980[\"Manuf_Nro_Parte\"]"
   ]
  },
  {
   "cell_type": "code",
   "execution_count": 202,
   "metadata": {},
   "outputs": [],
   "source": [
    "#Cantidad de Registros\n",
    "#df9980.shape"
   ]
  },
  {
   "cell_type": "code",
   "execution_count": 203,
   "metadata": {},
   "outputs": [],
   "source": [
    "#9990 - Materiales\n",
    "#excel_9990 = \"9900.xlsx\"\n",
    "#df9990 = pd.read_excel(excel_9990)\n",
    "#Remover columnas no necesarias en dataframe\n",
    "#Material\tMaterial type\tMaterial Group\tMaterial Group Desc.\tPlant\tBase Unit of Measure\tMaterial description\tLong Text\tExt. Material Group\tExt. matl grp descr.\tManufacturer Part No.\tManufacturer\tName\tValuation Class\tDescription\tCreated by\tCreated On\n",
    "#Renombrar columnas\n",
    "#df9990.rename(columns={\"Manufacturer Part No.\":\"Manuf_Nro_Parte\"}, inplace=True)"
   ]
  },
  {
   "cell_type": "code",
   "execution_count": null,
   "metadata": {},
   "outputs": [],
   "source": [
    "#Verificacion de cambio de nombre de columna\n",
    "#df9990[\"Manuf_Nro_Parte\"]"
   ]
  },
  {
   "cell_type": "code",
   "execution_count": 204,
   "metadata": {},
   "outputs": [],
   "source": [
    "#Cantidad de Registros\n",
    "# df9990.shape"
   ]
  },
  {
   "cell_type": "code",
   "execution_count": 205,
   "metadata": {},
   "outputs": [],
   "source": [
    "#9991 - Materiales\n",
    "#excel_9991 = \"9991.xlsx\"\n",
    "#df9991 = pd.read_excel(excel_9991)\n",
    "#Remover columnas no necesarias en dataframe\n",
    "#Material\tMaterial type\tMaterial Group\tMaterial Group Desc.\tPlant\tBase Unit of Measure\tMaterial description\tLong Text\tExt. Material Group\tExt. matl grp descr.\tManufacturer Part No.\tManufacturer\tName\tValuation Class\tDescription\tCreated by\tCreated On\n",
    "#Renombrar columnas\n",
    "#df9991.rename(columns={\"Manufacturer Part No.\":\"Manuf_Nro_Parte\"}, inplace=True)"
   ]
  },
  {
   "cell_type": "code",
   "execution_count": null,
   "metadata": {},
   "outputs": [],
   "source": [
    "#Verificacion de cambio de nombre de columna\n",
    "#df9991[\"Manuf_Nro_Parte\"]"
   ]
  },
  {
   "cell_type": "code",
   "execution_count": 206,
   "metadata": {},
   "outputs": [],
   "source": [
    "#Cantidad de Registros\n",
    "#df9991.shape"
   ]
  },
  {
   "cell_type": "code",
   "execution_count": 207,
   "metadata": {},
   "outputs": [],
   "source": [
    "#Manufacturer\n",
    "#excel_manufacturer = \"manufacturer.xlsx\"\n",
    "#dfmanufacturer = pd.read_excel(excel_manufacturer)"
   ]
  },
  {
   "cell_type": "markdown",
   "metadata": {},
   "source": [
    "## Importar solicitud para revisión"
   ]
  },
  {
   "cell_type": "code",
   "execution_count": 208,
   "metadata": {},
   "outputs": [],
   "source": [
    "#definir excel de solicitud a importar\n",
    "excel_file = \"A.xlsx\""
   ]
  },
  {
   "cell_type": "markdown",
   "metadata": {},
   "source": [
    "---"
   ]
  },
  {
   "cell_type": "code",
   "execution_count": 209,
   "metadata": {},
   "outputs": [],
   "source": [
    "#Importar excel\n",
    "df = pd.read_excel(excel_file)"
   ]
  },
  {
   "cell_type": "markdown",
   "metadata": {},
   "source": [
    "# Verificar si existen materiales duplicados en solicitud"
   ]
  },
  {
   "cell_type": "code",
   "execution_count": 210,
   "metadata": {},
   "outputs": [
    {
     "data": {
      "text/plain": [
       "False    17\n",
       "True      3\n",
       "dtype: int64"
      ]
     },
     "execution_count": 210,
     "metadata": {},
     "output_type": "execute_result"
    }
   ],
   "source": [
    "df.duplicated([\"Nro. Parte\"]).value_counts()"
   ]
  },
  {
   "cell_type": "code",
   "execution_count": 211,
   "metadata": {},
   "outputs": [
    {
     "name": "stdout",
     "output_type": "stream",
     "text": [
      "17\n"
     ]
    }
   ],
   "source": [
    "items_solicitados = len(df.index)\n",
    "print(total_items)"
   ]
  },
  {
   "cell_type": "code",
   "execution_count": 212,
   "metadata": {},
   "outputs": [],
   "source": [
    "df2 = df.drop_duplicates([\"Nro. Parte\"])"
   ]
  },
  {
   "cell_type": "code",
   "execution_count": 213,
   "metadata": {},
   "outputs": [],
   "source": [
    "items_validos = len(df2.index)\n",
    "items_duplicados = items_solicitados - items_validos"
   ]
  },
  {
   "cell_type": "code",
   "execution_count": 214,
   "metadata": {},
   "outputs": [
    {
     "name": "stdout",
     "output_type": "stream",
     "text": [
      "3\n"
     ]
    }
   ],
   "source": [
    "print(items_duplicados)"
   ]
  },
  {
   "cell_type": "code",
   "execution_count": 215,
   "metadata": {},
   "outputs": [
    {
     "data": {
      "image/png": "[encoded data removed]",
      "text/plain": [
       "<Figure size 432x288 with 1 Axes>"
      ]
     },
     "metadata": {},
     "output_type": "display_data"
    }
   ],
   "source": [
    "plt.axis(\"equal\")\n",
    "valores = [items_validos, items_duplicados]\n",
    "etiquetas = [\"Items Válidos\", \"Items Duplicados\"]\n",
    "explode = [0.1, 0]\n",
    "plt.pie(valores, labels = etiquetas, radius = 1.5, autopct =\"%0.2f%%\", shadow = True, startangle = 90, explode = explode)\n",
    "plt.show()\n",
    "\n"
   ]
  },
  {
   "cell_type": "code",
   "execution_count": 216,
   "metadata": {},
   "outputs": [
    {
     "data": {
      "text/html": [
       "<div>\n",
       "<style scoped>\n",
       "    .dataframe tbody tr th:only-of-type {\n",
       "        vertical-align: middle;\n",
       "    }\n",
       "\n",
       "    .dataframe tbody tr th {\n",
       "        vertical-align: top;\n",
       "    }\n",
       "\n",
       "    .dataframe thead th {\n",
       "        text-align: right;\n",
       "    }\n",
       "</style>\n",
       "<table border=\"1\" class=\"dataframe\">\n",
       "  <thead>\n",
       "    <tr style=\"text-align: right;\">\n",
       "      <th></th>\n",
       "      <th>ITEM</th>\n",
       "      <th>AVISO</th>\n",
       "      <th>EQUIPO</th>\n",
       "      <th>FLOTA</th>\n",
       "      <th>Nro. Parte</th>\n",
       "      <th>Descripción Material</th>\n",
       "      <th>Proveedor</th>\n",
       "      <th>ALMACEN</th>\n",
       "      <th>TIPO</th>\n",
       "    </tr>\n",
       "  </thead>\n",
       "  <tbody>\n",
       "    <tr>\n",
       "      <th>0</th>\n",
       "      <td>1</td>\n",
       "      <td>100170116</td>\n",
       "      <td>4132</td>\n",
       "      <td>MD6540</td>\n",
       "      <td>4737842</td>\n",
       "      <td>SEAL-SPECIAL</td>\n",
       "      <td>FESA</td>\n",
       "      <td>VHS</td>\n",
       "      <td>ERSA</td>\n",
       "    </tr>\n",
       "    <tr>\n",
       "      <th>1</th>\n",
       "      <td>2</td>\n",
       "      <td>100171256</td>\n",
       "      <td>4101</td>\n",
       "      <td>MD6640</td>\n",
       "      <td>5307539</td>\n",
       "      <td>COUPLING, FLEXIBLE</td>\n",
       "      <td>FESA</td>\n",
       "      <td>VHS</td>\n",
       "      <td>ERSA</td>\n",
       "    </tr>\n",
       "    <tr>\n",
       "      <th>2</th>\n",
       "      <td>3</td>\n",
       "      <td>100171259</td>\n",
       "      <td>4102</td>\n",
       "      <td>MD6640</td>\n",
       "      <td>5413762</td>\n",
       "      <td>BEARING PILLOW</td>\n",
       "      <td>FESA</td>\n",
       "      <td>VHS</td>\n",
       "      <td>ERSA</td>\n",
       "    </tr>\n",
       "    <tr>\n",
       "      <th>3</th>\n",
       "      <td>4</td>\n",
       "      <td>100171262</td>\n",
       "      <td>4102</td>\n",
       "      <td>MD6640</td>\n",
       "      <td>4640378</td>\n",
       "      <td>SHOE SPUD</td>\n",
       "      <td>FESA</td>\n",
       "      <td>VHS</td>\n",
       "      <td>ERSA</td>\n",
       "    </tr>\n",
       "    <tr>\n",
       "      <th>4</th>\n",
       "      <td>5</td>\n",
       "      <td>100171262</td>\n",
       "      <td>4102</td>\n",
       "      <td>MD6640</td>\n",
       "      <td>3B0551</td>\n",
       "      <td>PLUG-PIPE</td>\n",
       "      <td>FESA</td>\n",
       "      <td>VHS</td>\n",
       "      <td>ERSA</td>\n",
       "    </tr>\n",
       "  </tbody>\n",
       "</table>\n",
       "</div>"
      ],
      "text/plain": [
       "   ITEM      AVISO  EQUIPO   FLOTA Nro. Parte Descripción Material Proveedor  \\\n",
       "0     1  100170116    4132  MD6540    4737842         SEAL-SPECIAL      FESA   \n",
       "1     2  100171256    4101  MD6640    5307539   COUPLING, FLEXIBLE      FESA   \n",
       "2     3  100171259    4102  MD6640    5413762       BEARING PILLOW      FESA   \n",
       "3     4  100171262    4102  MD6640    4640378            SHOE SPUD      FESA   \n",
       "4     5  100171262    4102  MD6640     3B0551            PLUG-PIPE      FESA   \n",
       "\n",
       "  ALMACEN  TIPO  \n",
       "0     VHS  ERSA  \n",
       "1     VHS  ERSA  \n",
       "2     VHS  ERSA  \n",
       "3     VHS  ERSA  \n",
       "4     VHS  ERSA  "
      ]
     },
     "execution_count": 216,
     "metadata": {},
     "output_type": "execute_result"
    }
   ],
   "source": [
    "df2.head(\n",
    ")"
   ]
  },
  {
   "cell_type": "code",
   "execution_count": 217,
   "metadata": {},
   "outputs": [
    {
     "name": "stderr",
     "output_type": "stream",
     "text": [
      "C:\\Users\\CMMS\\anaconda3\\lib\\site-packages\\pandas\\core\\frame.py:4133: SettingWithCopyWarning: \n",
      "A value is trying to be set on a copy of a slice from a DataFrame\n",
      "\n",
      "See the caveats in the documentation: https://pandas.pydata.org/pandas-docs/stable/user_guide/indexing.html#returning-a-view-versus-a-copy\n",
      "  errors=errors,\n"
     ]
    }
   ],
   "source": [
    "#Renombrar columnas\n",
    "df2.rename(columns={\"Nro. Parte\":\"Nro_Parte\"}, inplace=True)"
   ]
  },
  {
   "cell_type": "code",
   "execution_count": 218,
   "metadata": {},
   "outputs": [
    {
     "data": {
      "text/html": [
       "<div>\n",
       "<style scoped>\n",
       "    .dataframe tbody tr th:only-of-type {\n",
       "        vertical-align: middle;\n",
       "    }\n",
       "\n",
       "    .dataframe tbody tr th {\n",
       "        vertical-align: top;\n",
       "    }\n",
       "\n",
       "    .dataframe thead th {\n",
       "        text-align: right;\n",
       "    }\n",
       "</style>\n",
       "<table border=\"1\" class=\"dataframe\">\n",
       "  <thead>\n",
       "    <tr style=\"text-align: right;\">\n",
       "      <th></th>\n",
       "      <th>ITEM</th>\n",
       "      <th>AVISO</th>\n",
       "      <th>EQUIPO</th>\n",
       "      <th>FLOTA</th>\n",
       "      <th>Nro_Parte</th>\n",
       "      <th>Descripción Material</th>\n",
       "      <th>Proveedor</th>\n",
       "      <th>ALMACEN</th>\n",
       "      <th>TIPO</th>\n",
       "    </tr>\n",
       "  </thead>\n",
       "  <tbody>\n",
       "    <tr>\n",
       "      <th>0</th>\n",
       "      <td>1</td>\n",
       "      <td>100170116</td>\n",
       "      <td>4132</td>\n",
       "      <td>MD6540</td>\n",
       "      <td>4737842</td>\n",
       "      <td>SEAL-SPECIAL</td>\n",
       "      <td>FESA</td>\n",
       "      <td>VHS</td>\n",
       "      <td>ERSA</td>\n",
       "    </tr>\n",
       "    <tr>\n",
       "      <th>1</th>\n",
       "      <td>2</td>\n",
       "      <td>100171256</td>\n",
       "      <td>4101</td>\n",
       "      <td>MD6640</td>\n",
       "      <td>5307539</td>\n",
       "      <td>COUPLING, FLEXIBLE</td>\n",
       "      <td>FESA</td>\n",
       "      <td>VHS</td>\n",
       "      <td>ERSA</td>\n",
       "    </tr>\n",
       "    <tr>\n",
       "      <th>2</th>\n",
       "      <td>3</td>\n",
       "      <td>100171259</td>\n",
       "      <td>4102</td>\n",
       "      <td>MD6640</td>\n",
       "      <td>5413762</td>\n",
       "      <td>BEARING PILLOW</td>\n",
       "      <td>FESA</td>\n",
       "      <td>VHS</td>\n",
       "      <td>ERSA</td>\n",
       "    </tr>\n",
       "    <tr>\n",
       "      <th>3</th>\n",
       "      <td>4</td>\n",
       "      <td>100171262</td>\n",
       "      <td>4102</td>\n",
       "      <td>MD6640</td>\n",
       "      <td>4640378</td>\n",
       "      <td>SHOE SPUD</td>\n",
       "      <td>FESA</td>\n",
       "      <td>VHS</td>\n",
       "      <td>ERSA</td>\n",
       "    </tr>\n",
       "    <tr>\n",
       "      <th>4</th>\n",
       "      <td>5</td>\n",
       "      <td>100171262</td>\n",
       "      <td>4102</td>\n",
       "      <td>MD6640</td>\n",
       "      <td>3B0551</td>\n",
       "      <td>PLUG-PIPE</td>\n",
       "      <td>FESA</td>\n",
       "      <td>VHS</td>\n",
       "      <td>ERSA</td>\n",
       "    </tr>\n",
       "  </tbody>\n",
       "</table>\n",
       "</div>"
      ],
      "text/plain": [
       "   ITEM      AVISO  EQUIPO   FLOTA Nro_Parte Descripción Material Proveedor  \\\n",
       "0     1  100170116    4132  MD6540   4737842         SEAL-SPECIAL      FESA   \n",
       "1     2  100171256    4101  MD6640   5307539   COUPLING, FLEXIBLE      FESA   \n",
       "2     3  100171259    4102  MD6640   5413762       BEARING PILLOW      FESA   \n",
       "3     4  100171262    4102  MD6640   4640378            SHOE SPUD      FESA   \n",
       "4     5  100171262    4102  MD6640    3B0551            PLUG-PIPE      FESA   \n",
       "\n",
       "  ALMACEN  TIPO  \n",
       "0     VHS  ERSA  \n",
       "1     VHS  ERSA  \n",
       "2     VHS  ERSA  \n",
       "3     VHS  ERSA  \n",
       "4     VHS  ERSA  "
      ]
     },
     "execution_count": 218,
     "metadata": {},
     "output_type": "execute_result"
    }
   ],
   "source": [
    "df2.head()"
   ]
  },
  {
   "cell_type": "code",
   "execution_count": 219,
   "metadata": {},
   "outputs": [],
   "source": [
    "# Buscar Nro Parte en otros sites"
   ]
  },
  {
   "cell_type": "code",
   "execution_count": 220,
   "metadata": {},
   "outputs": [
    {
     "name": "stdout",
     "output_type": "stream",
     "text": [
      "False    17\n",
      "Name: check, dtype: int64\n"
     ]
    },
    {
     "name": "stderr",
     "output_type": "stream",
     "text": [
      "C:\\Users\\CMMS\\anaconda3\\lib\\site-packages\\ipykernel_launcher.py:1: SettingWithCopyWarning: \n",
      "A value is trying to be set on a copy of a slice from a DataFrame.\n",
      "Try using .loc[row_indexer,col_indexer] = value instead\n",
      "\n",
      "See the caveats in the documentation: https://pandas.pydata.org/pandas-docs/stable/user_guide/indexing.html#returning-a-view-versus-a-copy\n",
      "  \"\"\"Entry point for launching an IPython kernel.\n"
     ]
    }
   ],
   "source": [
    "df2[\"check\"] = df8240.Manuf_Nro_Parte.isin(df2.Nro_Parte)\n",
    "print(df2[\"check\"].value_counts())"
   ]
  },
  {
   "cell_type": "code",
   "execution_count": 221,
   "metadata": {},
   "outputs": [
    {
     "data": {
      "text/html": [
       "<div>\n",
       "<style scoped>\n",
       "    .dataframe tbody tr th:only-of-type {\n",
       "        vertical-align: middle;\n",
       "    }\n",
       "\n",
       "    .dataframe tbody tr th {\n",
       "        vertical-align: top;\n",
       "    }\n",
       "\n",
       "    .dataframe thead th {\n",
       "        text-align: right;\n",
       "    }\n",
       "</style>\n",
       "<table border=\"1\" class=\"dataframe\">\n",
       "  <thead>\n",
       "    <tr style=\"text-align: right;\">\n",
       "      <th></th>\n",
       "      <th>ITEM</th>\n",
       "      <th>AVISO</th>\n",
       "      <th>EQUIPO</th>\n",
       "      <th>FLOTA</th>\n",
       "      <th>Nro_Parte</th>\n",
       "      <th>Descripción Material</th>\n",
       "      <th>Proveedor</th>\n",
       "      <th>ALMACEN</th>\n",
       "      <th>TIPO</th>\n",
       "      <th>check</th>\n",
       "    </tr>\n",
       "  </thead>\n",
       "  <tbody>\n",
       "    <tr>\n",
       "      <th>0</th>\n",
       "      <td>1</td>\n",
       "      <td>100170116</td>\n",
       "      <td>4132</td>\n",
       "      <td>MD6540</td>\n",
       "      <td>4737842</td>\n",
       "      <td>SEAL-SPECIAL</td>\n",
       "      <td>FESA</td>\n",
       "      <td>VHS</td>\n",
       "      <td>ERSA</td>\n",
       "      <td>False</td>\n",
       "    </tr>\n",
       "    <tr>\n",
       "      <th>1</th>\n",
       "      <td>2</td>\n",
       "      <td>100171256</td>\n",
       "      <td>4101</td>\n",
       "      <td>MD6640</td>\n",
       "      <td>5307539</td>\n",
       "      <td>COUPLING, FLEXIBLE</td>\n",
       "      <td>FESA</td>\n",
       "      <td>VHS</td>\n",
       "      <td>ERSA</td>\n",
       "      <td>False</td>\n",
       "    </tr>\n",
       "    <tr>\n",
       "      <th>2</th>\n",
       "      <td>3</td>\n",
       "      <td>100171259</td>\n",
       "      <td>4102</td>\n",
       "      <td>MD6640</td>\n",
       "      <td>5413762</td>\n",
       "      <td>BEARING PILLOW</td>\n",
       "      <td>FESA</td>\n",
       "      <td>VHS</td>\n",
       "      <td>ERSA</td>\n",
       "      <td>False</td>\n",
       "    </tr>\n",
       "    <tr>\n",
       "      <th>3</th>\n",
       "      <td>4</td>\n",
       "      <td>100171262</td>\n",
       "      <td>4102</td>\n",
       "      <td>MD6640</td>\n",
       "      <td>4640378</td>\n",
       "      <td>SHOE SPUD</td>\n",
       "      <td>FESA</td>\n",
       "      <td>VHS</td>\n",
       "      <td>ERSA</td>\n",
       "      <td>False</td>\n",
       "    </tr>\n",
       "    <tr>\n",
       "      <th>4</th>\n",
       "      <td>5</td>\n",
       "      <td>100171262</td>\n",
       "      <td>4102</td>\n",
       "      <td>MD6640</td>\n",
       "      <td>3B0551</td>\n",
       "      <td>PLUG-PIPE</td>\n",
       "      <td>FESA</td>\n",
       "      <td>VHS</td>\n",
       "      <td>ERSA</td>\n",
       "      <td>False</td>\n",
       "    </tr>\n",
       "  </tbody>\n",
       "</table>\n",
       "</div>"
      ],
      "text/plain": [
       "   ITEM      AVISO  EQUIPO   FLOTA Nro_Parte Descripción Material Proveedor  \\\n",
       "0     1  100170116    4132  MD6540   4737842         SEAL-SPECIAL      FESA   \n",
       "1     2  100171256    4101  MD6640   5307539   COUPLING, FLEXIBLE      FESA   \n",
       "2     3  100171259    4102  MD6640   5413762       BEARING PILLOW      FESA   \n",
       "3     4  100171262    4102  MD6640   4640378            SHOE SPUD      FESA   \n",
       "4     5  100171262    4102  MD6640    3B0551            PLUG-PIPE      FESA   \n",
       "\n",
       "  ALMACEN  TIPO  check  \n",
       "0     VHS  ERSA  False  \n",
       "1     VHS  ERSA  False  \n",
       "2     VHS  ERSA  False  \n",
       "3     VHS  ERSA  False  \n",
       "4     VHS  ERSA  False  "
      ]
     },
     "execution_count": 221,
     "metadata": {},
     "output_type": "execute_result"
    }
   ],
   "source": [
    "df2.head()"
   ]
  },
  {
   "cell_type": "code",
   "execution_count": 222,
   "metadata": {},
   "outputs": [],
   "source": [
    "# Buscar en Formatos enviados a logistica\n",
    "#Los items que no se encuentren en otros sites deben ser evaluados para definir si ya fueron solicitados a logistica"
   ]
  },
  {
   "cell_type": "code",
   "execution_count": 223,
   "metadata": {},
   "outputs": [],
   "source": [
    "# Items a Catalogar\n",
    "#Los items que aun no han sido solicitados a logistica se procede a su catalogación."
   ]
  },
  {
   "cell_type": "code",
   "execution_count": 224,
   "metadata": {},
   "outputs": [],
   "source": [
    "#Ordenar items"
   ]
  }
 ],
 "metadata": {
  "kernelspec": {
   "display_name": "Python 3",
   "language": "python",
   "name": "python3"
  },
  "language_info": {
   "codemirror_mode": {
    "name": "ipython",
    "version": 3
   },
   "file_extension": ".py",
   "mimetype": "text/x-python",
   "name": "python",
   "nbconvert_exporter": "python",
   "pygments_lexer": "ipython3",
   "version": "3.7.6"
  }
 },
 "nbformat": 4,
 "nbformat_minor": 4
}
